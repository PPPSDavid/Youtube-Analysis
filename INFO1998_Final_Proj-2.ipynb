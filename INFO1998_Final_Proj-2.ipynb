{
 "cells": [
  {
   "cell_type": "markdown",
   "metadata": {},
   "source": [
    "# Model 2: Final Popularity Prediction"
   ]
  },
  {
   "cell_type": "markdown",
   "metadata": {},
   "source": [
    "## Introduction"
   ]
  },
  {
   "cell_type": "markdown",
   "metadata": {},
   "source": [
    "The final popularity of YouTube videos could influence their final performance, but how can we know what kind of these relations are? Will they be linear, or will they have some more interesting and intricate characteristics? Since we want to predict the videos' final successes by looking at their initial performance, we could first try to see the relation between the counts and Time; if they have a linear relation, this indicates that the initial and final counts also have linear relation. Then we take the counts of the first hour and last hour in the dataset and draw scatter plots, trying to predict their relations. From these plots, we could choose the most optimal model to predict teh video's final performance by looking at their initial performance."
   ]
  },
  {
   "cell_type": "code",
   "execution_count": 1,
   "metadata": {},
   "outputs": [],
   "source": [
    "# import necessary packages\n",
    "import pandas as pd\n",
    "from sklearn.model_selection import train_test_split\n",
    "from sklearn.model_selection import KFold\n",
    "from sklearn.linear_model import LinearRegression\n",
    "import matplotlib.pyplot as plt\n",
    "from sklearn.preprocessing import PolynomialFeatures\n",
    "from sklearn.pipeline import make_pipeline\n",
    "import random\n",
    "import numpy as np"
   ]
  },
  {
   "cell_type": "code",
   "execution_count": 67,
   "metadata": {},
   "outputs": [],
   "source": [
    "data = pd.read_csv('count_observation_upload.csv')"
   ]
  },
  {
   "cell_type": "markdown",
   "metadata": {},
   "source": [
    "## Data Cleaning and Preparation"
   ]
  },
  {
   "cell_type": "code",
   "execution_count": 66,
   "metadata": {},
   "outputs": [
    {
     "data": {
      "text/html": [
       "<div>\n",
       "<style scoped>\n",
       "    .dataframe tbody tr th:only-of-type {\n",
       "        vertical-align: middle;\n",
       "    }\n",
       "\n",
       "    .dataframe tbody tr th {\n",
       "        vertical-align: top;\n",
       "    }\n",
       "\n",
       "    .dataframe thead th {\n",
       "        text-align: right;\n",
       "    }\n",
       "</style>\n",
       "<table border=\"1\" class=\"dataframe\">\n",
       "  <thead>\n",
       "    <tr style=\"text-align: right;\">\n",
       "      <th></th>\n",
       "      <th>Unnamed: 0</th>\n",
       "      <th>index</th>\n",
       "      <th>videoId</th>\n",
       "      <th>commentCount</th>\n",
       "      <th>dislikeCount</th>\n",
       "      <th>likeCount</th>\n",
       "      <th>viewCount</th>\n",
       "      <th>Time</th>\n",
       "    </tr>\n",
       "  </thead>\n",
       "  <tbody>\n",
       "    <tr>\n",
       "      <th>0</th>\n",
       "      <td>0</td>\n",
       "      <td>0</td>\n",
       "      <td>FzG4uDgje3M</td>\n",
       "      <td>131330.0</td>\n",
       "      <td>411967.0</td>\n",
       "      <td>1993172.0</td>\n",
       "      <td>281321552.0</td>\n",
       "      <td>2018-05-07 18:00:00</td>\n",
       "    </tr>\n",
       "    <tr>\n",
       "      <th>1</th>\n",
       "      <td>1</td>\n",
       "      <td>1</td>\n",
       "      <td>FzG4uDgje3M</td>\n",
       "      <td>131410.0</td>\n",
       "      <td>412203.0</td>\n",
       "      <td>1994314.0</td>\n",
       "      <td>281468577.0</td>\n",
       "      <td>2018-05-07 19:00:00</td>\n",
       "    </tr>\n",
       "    <tr>\n",
       "      <th>2</th>\n",
       "      <td>2</td>\n",
       "      <td>2</td>\n",
       "      <td>FzG4uDgje3M</td>\n",
       "      <td>131562.0</td>\n",
       "      <td>412511.0</td>\n",
       "      <td>1995697.0</td>\n",
       "      <td>281915631.0</td>\n",
       "      <td>2018-05-07 20:00:00</td>\n",
       "    </tr>\n",
       "    <tr>\n",
       "      <th>3</th>\n",
       "      <td>3</td>\n",
       "      <td>3</td>\n",
       "      <td>FzG4uDgje3M</td>\n",
       "      <td>131690.0</td>\n",
       "      <td>412836.0</td>\n",
       "      <td>1997352.0</td>\n",
       "      <td>282044028.0</td>\n",
       "      <td>2018-05-07 21:00:00</td>\n",
       "    </tr>\n",
       "    <tr>\n",
       "      <th>4</th>\n",
       "      <td>4</td>\n",
       "      <td>4</td>\n",
       "      <td>FzG4uDgje3M</td>\n",
       "      <td>131857.0</td>\n",
       "      <td>413237.0</td>\n",
       "      <td>1999256.0</td>\n",
       "      <td>282380859.0</td>\n",
       "      <td>2018-05-07 22:00:00</td>\n",
       "    </tr>\n",
       "  </tbody>\n",
       "</table>\n",
       "</div>"
      ],
      "text/plain": [
       "   Unnamed: 0  index      videoId  commentCount  dislikeCount  likeCount  \\\n",
       "0           0      0  FzG4uDgje3M      131330.0      411967.0  1993172.0   \n",
       "1           1      1  FzG4uDgje3M      131410.0      412203.0  1994314.0   \n",
       "2           2      2  FzG4uDgje3M      131562.0      412511.0  1995697.0   \n",
       "3           3      3  FzG4uDgje3M      131690.0      412836.0  1997352.0   \n",
       "4           4      4  FzG4uDgje3M      131857.0      413237.0  1999256.0   \n",
       "\n",
       "     viewCount                 Time  \n",
       "0  281321552.0  2018-05-07 18:00:00  \n",
       "1  281468577.0  2018-05-07 19:00:00  \n",
       "2  281915631.0  2018-05-07 20:00:00  \n",
       "3  282044028.0  2018-05-07 21:00:00  \n",
       "4  282380859.0  2018-05-07 22:00:00  "
      ]
     },
     "execution_count": 66,
     "metadata": {},
     "output_type": "execute_result"
    }
   ],
   "source": [
    "df=data.drop(['commentCount_diff','dislikeCount_diff','favoriteCount_diff','likeCount_diff',\n",
    "              'viewCount_diff','favoriteCount'],axis=1)\n",
    "#we drop favorite count since this data lacks these info(all 0 in the dataset)\n",
    "#we drop other columns since we do not need these info for building our models.\n",
    "df1=df.loc[df['videoId']==\"FzG4uDgje3M\"] # Channel name:Ultra Music\n",
    "df1=df1.dropna()#drop the NaN entries\n",
    "df1.head()"
   ]
  },
  {
   "cell_type": "markdown",
   "metadata": {},
   "source": [
    "## Prediction of initialCount and finalCount relations"
   ]
  },
  {
   "cell_type": "markdown",
   "metadata": {},
   "source": [
    "### Data Visualization: viewCount and Time\n",
    "We use scatter plot here to find the relation between viewCount and Time."
   ]
  },
  {
   "cell_type": "code",
   "execution_count": 8,
   "metadata": {},
   "outputs": [
    {
     "data": {
      "image/png": "[encoded data removed]",
      "text/plain": [
       "<Figure size 432x288 with 1 Axes>"
      ]
     },
     "metadata": {},
     "output_type": "display_data"
    }
   ],
   "source": [
    "plt.scatter(df1['Time'],df1['viewCount'])\n",
    "plt.title('viewCount vs Time')\n",
    "plt.xlabel('Time')\n",
    "plt.ylabel('viewCount')\n",
    "plt.show()#we can see the viewcount and time forms a linear relationship."
   ]
  },
  {
   "cell_type": "markdown",
   "metadata": {},
   "source": [
    "### LinearRegression model: viewCount and Time\n",
    "We train a linearRegression model to model the linear relation between viewCount and Time. Also, since the time in the dataset are strings and cannot be used to train our model, we could let the initial record time be 0, and since we have data recorded every hour, data of teh index column corresponding to each row could represent the time elapsed since the start of record."
   ]
  },
  {
   "cell_type": "code",
   "execution_count": 9,
   "metadata": {},
   "outputs": [
    {
     "data": {
      "text/plain": [
       "0.9879031316328957"
      ]
     },
     "execution_count": 9,
     "metadata": {},
     "output_type": "execute_result"
    }
   ],
   "source": [
    "x_train, x_test, y_train, y_test = train_test_split(df1[['viewCount']], df1[['index']],\n",
    "                                                    test_size=0.2, random_state=42)\n",
    "model = LinearRegression()\n",
    "model = model.fit(x_train, y_train)\n",
    "model.score(x_test, y_test)"
   ]
  },
  {
   "cell_type": "markdown",
   "metadata": {},
   "source": [
    "we get a pretty high score, which indecates our linear model of viewcount and time is pretty accurate. Thus, we could have the conclusion that if the initial viewcount is high, the final viewcount will also be high. We do the similar process for the rest counts and try to find teh relation between these counts and time."
   ]
  },
  {
   "cell_type": "markdown",
   "metadata": {},
   "source": [
    "### Data Visualization: commentCount and Time\n",
    "We use scatter plot here to find the relation between commentCount and Time."
   ]
  },
  {
   "cell_type": "code",
   "execution_count": 20,
   "metadata": {},
   "outputs": [
    {
     "data": {
      "image/png": "[encoded data removed]",
      "text/plain": [
       "<Figure size 432x288 with 1 Axes>"
      ]
     },
     "metadata": {},
     "output_type": "display_data"
    }
   ],
   "source": [
    "plt.scatter(df1['Time'],df1['commentCount'])\n",
    "plt.title('commentCount vs Time')\n",
    "plt.xlabel('Time')\n",
    "plt.ylabel('commentCount')\n",
    "plt.show()"
   ]
  },
  {
   "cell_type": "markdown",
   "metadata": {},
   "source": [
    "We see that the relation between commentCount and Time is also mostly linear. Therefore we could choose LinearRegression model."
   ]
  },
  {
   "cell_type": "markdown",
   "metadata": {},
   "source": [
    "### LinearRegression model: commentCount and Time"
   ]
  },
  {
   "cell_type": "code",
   "execution_count": 11,
   "metadata": {},
   "outputs": [
    {
     "data": {
      "text/plain": [
       "0.9957487072681469"
      ]
     },
     "execution_count": 11,
     "metadata": {},
     "output_type": "execute_result"
    }
   ],
   "source": [
    "x_train, x_test, y_train, y_test = train_test_split(df1[['commentCount']], df1[['index']],\n",
    "                                                    test_size=0.2, random_state=42)\n",
    "#we could let the first record time be 0, and since we have data recorded every hr, \n",
    "#the index of the rows could represent teh time elapsed since the start of record.\n",
    "model = LinearRegression()\n",
    "model = model.fit(x_train, y_train)\n",
    "model.score(x_test, y_test)"
   ]
  },
  {
   "cell_type": "markdown",
   "metadata": {},
   "source": [
    "### Data Visualization: likeCount and Time\n",
    "We use scatter plot here to find the relation between likeCount and Time."
   ]
  },
  {
   "cell_type": "code",
   "execution_count": 22,
   "metadata": {},
   "outputs": [
    {
     "data": {
      "image/png": "[encoded data removed]",
      "text/plain": [
       "<Figure size 432x288 with 1 Axes>"
      ]
     },
     "metadata": {},
     "output_type": "display_data"
    }
   ],
   "source": [
    "plt.scatter(df1['Time'],df1['likeCount'])\n",
    "plt.title('likeCount vs Time')\n",
    "plt.xlabel('Time')\n",
    "plt.ylabel('likeCount')\n",
    "plt.show()"
   ]
  },
  {
   "cell_type": "markdown",
   "metadata": {},
   "source": [
    "### LinearRegression model: likeCount and Time"
   ]
  },
  {
   "cell_type": "code",
   "execution_count": 12,
   "metadata": {},
   "outputs": [
    {
     "data": {
      "text/plain": [
       "0.9870919411503317"
      ]
     },
     "execution_count": 12,
     "metadata": {},
     "output_type": "execute_result"
    }
   ],
   "source": [
    "x_train, x_test, y_train, y_test = train_test_split(df1[['likeCount']], df1[['index']],\n",
    "                                                    test_size=0.2, random_state=42)\n",
    "model = LinearRegression()\n",
    "model = model.fit(x_train, y_train)\n",
    "model.score(x_test, y_test)"
   ]
  },
  {
   "cell_type": "markdown",
   "metadata": {},
   "source": [
    "### Data Visualization: dislikeCount and Time"
   ]
  },
  {
   "cell_type": "code",
   "execution_count": 24,
   "metadata": {},
   "outputs": [
    {
     "data": {
      "image/png": "[encoded data removed]",
      "text/plain": [
       "<Figure size 432x288 with 1 Axes>"
      ]
     },
     "metadata": {},
     "output_type": "display_data"
    }
   ],
   "source": [
    "plt.scatter(df1['Time'],df1['dislikeCount'])\n",
    "plt.title('dislikeCount vs Time')\n",
    "plt.xlabel('Time')\n",
    "plt.ylabel('dislikeCount')\n",
    "plt.show()"
   ]
  },
  {
   "cell_type": "markdown",
   "metadata": {},
   "source": [
    "### LinearRegression model: dislikeCount and Time"
   ]
  },
  {
   "cell_type": "code",
   "execution_count": 13,
   "metadata": {},
   "outputs": [
    {
     "data": {
      "text/plain": [
       "0.9971574888627115"
      ]
     },
     "execution_count": 13,
     "metadata": {},
     "output_type": "execute_result"
    }
   ],
   "source": [
    "x_train, x_test, y_train, y_test = train_test_split(df1[['dislikeCount']], df1[['index']],\n",
    "                                                    test_size=0.2, random_state=42)\n",
    "model = LinearRegression()\n",
    "model = model.fit(x_train, y_train)\n",
    "model.score(x_test, y_test)"
   ]
  },
  {
   "cell_type": "markdown",
   "metadata": {},
   "source": [
    "These count and time all have linear relation, and these linear relations indicate that the initial commentcount, viewcount, likecount, dislikecount, and their corresponding final values also have linear relations. Therefore we could make the prediction that we could build linear models to use the initial data to predict the possible final data, and therefore predict the final performance of videos by looking at their initial performance.\n",
    "We will then actually plot the graphs and build teh models to check the correctness of our prediction;<br> \n",
    "the prediction we made above <strong><em>could have some potential problems </strong></em>since the scores for each model is too high, which seems not very realistic."
   ]
  },
  {
   "cell_type": "markdown",
   "metadata": {},
   "source": [
    "# Check Correctness of Preiction & Identify Possible Error-causing Problem\n",
    "We noticed a possible cause for error in the models: the initial counts. If the initial counts are big, then <strong><em>the initial values could have too big an influence on the final values</strong></em> and therefore <strong><em>could significantly affect the relation and therefore affect the accuracy of the models</strong></em>. Therefore, we plot graphs and bulid models of the initial counts and the <strong><em>difference</strong></em> between the final counts and the initial counts. i.e., we plot graphs and build models of the initial counts and the value of (final_count - initial_count) to elimiate the error that could be caused by the big initial value."
   ]
  },
  {
   "cell_type": "markdown",
   "metadata": {},
   "source": [
    "## Data Cleaning and Preparation"
   ]
  },
  {
   "cell_type": "markdown",
   "metadata": {},
   "source": [
    "We can see that we do have some null values in df3 and we need to fill them with mean value. \n",
    "We could choose mean because the dataset is relatively big, thus teh mean value could be a good representation of the possible NaN values. Then we change the value of counts in df3 to the difference betweeen the final counts and the initial counts to eliminate the influence of the initial values on the accuracy."
   ]
  },
  {
   "cell_type": "code",
   "execution_count": 68,
   "metadata": {},
   "outputs": [
    {
     "name": "stdout",
     "output_type": "stream",
     "text": [
      "Unnamed: 0      False\n",
      "index           False\n",
      "videoId         False\n",
      "commentCount    False\n",
      "dislikeCount    False\n",
      "likeCount       False\n",
      "viewCount       False\n",
      "Time            False\n",
      "dtype: bool\n",
      "Unnamed: 0      False\n",
      "index           False\n",
      "videoId         False\n",
      "commentCount     True\n",
      "dislikeCount     True\n",
      "likeCount        True\n",
      "viewCount        True\n",
      "Time            False\n",
      "dtype: bool\n"
     ]
    },
    {
     "name": "stderr",
     "output_type": "stream",
     "text": [
      "/anaconda3/lib/python3.6/site-packages/ipykernel_launcher.py:6: SettingWithCopyWarning: \n",
      "A value is trying to be set on a copy of a slice from a DataFrame.\n",
      "Try using .loc[row_indexer,col_indexer] = value instead\n",
      "\n",
      "See the caveats in the documentation: http://pandas.pydata.org/pandas-docs/stable/indexing.html#indexing-view-versus-copy\n",
      "  \n",
      "/anaconda3/lib/python3.6/site-packages/ipykernel_launcher.py:7: SettingWithCopyWarning: \n",
      "A value is trying to be set on a copy of a slice from a DataFrame.\n",
      "Try using .loc[row_indexer,col_indexer] = value instead\n",
      "\n",
      "See the caveats in the documentation: http://pandas.pydata.org/pandas-docs/stable/indexing.html#indexing-view-versus-copy\n",
      "  import sys\n",
      "/anaconda3/lib/python3.6/site-packages/ipykernel_launcher.py:8: SettingWithCopyWarning: \n",
      "A value is trying to be set on a copy of a slice from a DataFrame.\n",
      "Try using .loc[row_indexer,col_indexer] = value instead\n",
      "\n",
      "See the caveats in the documentation: http://pandas.pydata.org/pandas-docs/stable/indexing.html#indexing-view-versus-copy\n",
      "  \n",
      "/anaconda3/lib/python3.6/site-packages/ipykernel_launcher.py:9: SettingWithCopyWarning: \n",
      "A value is trying to be set on a copy of a slice from a DataFrame.\n",
      "Try using .loc[row_indexer,col_indexer] = value instead\n",
      "\n",
      "See the caveats in the documentation: http://pandas.pydata.org/pandas-docs/stable/indexing.html#indexing-view-versus-copy\n",
      "  if __name__ == '__main__':\n",
      "/anaconda3/lib/python3.6/site-packages/ipykernel_launcher.py:12: SettingWithCopyWarning: \n",
      "A value is trying to be set on a copy of a slice from a DataFrame.\n",
      "Try using .loc[row_indexer,col_indexer] = value instead\n",
      "\n",
      "See the caveats in the documentation: http://pandas.pydata.org/pandas-docs/stable/indexing.html#indexing-view-versus-copy\n",
      "  if sys.path[0] == '':\n",
      "/anaconda3/lib/python3.6/site-packages/ipykernel_launcher.py:13: SettingWithCopyWarning: \n",
      "A value is trying to be set on a copy of a slice from a DataFrame.\n",
      "Try using .loc[row_indexer,col_indexer] = value instead\n",
      "\n",
      "See the caveats in the documentation: http://pandas.pydata.org/pandas-docs/stable/indexing.html#indexing-view-versus-copy\n",
      "  del sys.path[0]\n",
      "/anaconda3/lib/python3.6/site-packages/ipykernel_launcher.py:14: SettingWithCopyWarning: \n",
      "A value is trying to be set on a copy of a slice from a DataFrame.\n",
      "Try using .loc[row_indexer,col_indexer] = value instead\n",
      "\n",
      "See the caveats in the documentation: http://pandas.pydata.org/pandas-docs/stable/indexing.html#indexing-view-versus-copy\n",
      "  \n"
     ]
    },
    {
     "name": "stdout",
     "output_type": "stream",
     "text": [
      "Unnamed: 0      False\n",
      "index           False\n",
      "videoId         False\n",
      "commentCount    False\n",
      "dislikeCount    False\n",
      "likeCount       False\n",
      "viewCount       False\n",
      "Time            False\n",
      "dtype: bool\n"
     ]
    },
    {
     "name": "stderr",
     "output_type": "stream",
     "text": [
      "/anaconda3/lib/python3.6/site-packages/ipykernel_launcher.py:15: SettingWithCopyWarning: \n",
      "A value is trying to be set on a copy of a slice from a DataFrame.\n",
      "Try using .loc[row_indexer,col_indexer] = value instead\n",
      "\n",
      "See the caveats in the documentation: http://pandas.pydata.org/pandas-docs/stable/indexing.html#indexing-view-versus-copy\n",
      "  from ipykernel import kernelapp as app\n"
     ]
    }
   ],
   "source": [
    "df2=df.loc[df['Time']=='2018-05-07 18:00:00']  #Initial Performance\n",
    "df3=df.loc[df['Time']=='2018-06-05 16:00:00']  #Final Performance\n",
    "print(pd.isnull(df2).sum() > 0)\n",
    "print(pd.isnull(df3).sum() > 0)\n",
    "\n",
    "df3['commentCount']=df3['commentCount'].fillna(df3['commentCount'].mean())\n",
    "df3['dislikeCount']=df3['dislikeCount'].fillna(df3['dislikeCount'].mean())\n",
    "df3['likeCount']=df3['likeCount'].fillna(df3['likeCount'].mean())\n",
    "df3['viewCount']=df3['viewCount'].fillna(df3['viewCount'].mean())\n",
    "\n",
    "#difference between initial count and final count\n",
    "df3['commentCount']=df3['commentCount'].values-df2['commentCount'].values\n",
    "df3['dislikeCount']=df3['dislikeCount'].values-df2['dislikeCount'].values\n",
    "df3['likeCount']=df3['likeCount'].values-df2['likeCount'].values\n",
    "df3['viewCount']=df3['viewCount'].values-df2['viewCount'].values\n",
    "print(pd.isnull(df3).sum() > 0) #filled all teh NaN values successfully."
   ]
  },
  {
   "cell_type": "code",
   "execution_count": 69,
   "metadata": {},
   "outputs": [
    {
     "data": {
      "text/html": [
       "<div>\n",
       "<style scoped>\n",
       "    .dataframe tbody tr th:only-of-type {\n",
       "        vertical-align: middle;\n",
       "    }\n",
       "\n",
       "    .dataframe tbody tr th {\n",
       "        vertical-align: top;\n",
       "    }\n",
       "\n",
       "    .dataframe thead th {\n",
       "        text-align: right;\n",
       "    }\n",
       "</style>\n",
       "<table border=\"1\" class=\"dataframe\">\n",
       "  <thead>\n",
       "    <tr style=\"text-align: right;\">\n",
       "      <th></th>\n",
       "      <th>Unnamed: 0</th>\n",
       "      <th>index</th>\n",
       "      <th>videoId</th>\n",
       "      <th>commentCount</th>\n",
       "      <th>dislikeCount</th>\n",
       "      <th>likeCount</th>\n",
       "      <th>viewCount</th>\n",
       "      <th>Time</th>\n",
       "    </tr>\n",
       "  </thead>\n",
       "  <tbody>\n",
       "    <tr>\n",
       "      <th>0</th>\n",
       "      <td>0</td>\n",
       "      <td>0</td>\n",
       "      <td>FzG4uDgje3M</td>\n",
       "      <td>131330.0</td>\n",
       "      <td>411967.0</td>\n",
       "      <td>1993172.0</td>\n",
       "      <td>281321552.0</td>\n",
       "      <td>2018-05-07 18:00:00</td>\n",
       "    </tr>\n",
       "    <tr>\n",
       "      <th>695</th>\n",
       "      <td>695</td>\n",
       "      <td>0</td>\n",
       "      <td>LOYAomlRbxI</td>\n",
       "      <td>13009.0</td>\n",
       "      <td>33188.0</td>\n",
       "      <td>706006.0</td>\n",
       "      <td>80762575.0</td>\n",
       "      <td>2018-05-07 18:00:00</td>\n",
       "    </tr>\n",
       "    <tr>\n",
       "      <th>1390</th>\n",
       "      <td>1390</td>\n",
       "      <td>0</td>\n",
       "      <td>Bm8rz-llMhE</td>\n",
       "      <td>14108.0</td>\n",
       "      <td>22212.0</td>\n",
       "      <td>647831.0</td>\n",
       "      <td>56259050.0</td>\n",
       "      <td>2018-05-07 18:00:00</td>\n",
       "    </tr>\n",
       "    <tr>\n",
       "      <th>2085</th>\n",
       "      <td>2085</td>\n",
       "      <td>0</td>\n",
       "      <td>pd7AMDMotyM</td>\n",
       "      <td>31895.0</td>\n",
       "      <td>41267.0</td>\n",
       "      <td>688754.0</td>\n",
       "      <td>53295716.0</td>\n",
       "      <td>2018-05-07 18:00:00</td>\n",
       "    </tr>\n",
       "    <tr>\n",
       "      <th>2780</th>\n",
       "      <td>2780</td>\n",
       "      <td>0</td>\n",
       "      <td>4kDklB6-69Q</td>\n",
       "      <td>69616.0</td>\n",
       "      <td>20403.0</td>\n",
       "      <td>1048729.0</td>\n",
       "      <td>46531812.0</td>\n",
       "      <td>2018-05-07 18:00:00</td>\n",
       "    </tr>\n",
       "  </tbody>\n",
       "</table>\n",
       "</div>"
      ],
      "text/plain": [
       "      Unnamed: 0  index      videoId  commentCount  dislikeCount  likeCount  \\\n",
       "0              0      0  FzG4uDgje3M      131330.0      411967.0  1993172.0   \n",
       "695          695      0  LOYAomlRbxI       13009.0       33188.0   706006.0   \n",
       "1390        1390      0  Bm8rz-llMhE       14108.0       22212.0   647831.0   \n",
       "2085        2085      0  pd7AMDMotyM       31895.0       41267.0   688754.0   \n",
       "2780        2780      0  4kDklB6-69Q       69616.0       20403.0  1048729.0   \n",
       "\n",
       "        viewCount                 Time  \n",
       "0     281321552.0  2018-05-07 18:00:00  \n",
       "695    80762575.0  2018-05-07 18:00:00  \n",
       "1390   56259050.0  2018-05-07 18:00:00  \n",
       "2085   53295716.0  2018-05-07 18:00:00  \n",
       "2780   46531812.0  2018-05-07 18:00:00  "
      ]
     },
     "execution_count": 69,
     "metadata": {},
     "output_type": "execute_result"
    }
   ],
   "source": [
    "df2.head()"
   ]
  },
  {
   "cell_type": "code",
   "execution_count": 70,
   "metadata": {},
   "outputs": [
    {
     "data": {
      "text/html": [
       "<div>\n",
       "<style scoped>\n",
       "    .dataframe tbody tr th:only-of-type {\n",
       "        vertical-align: middle;\n",
       "    }\n",
       "\n",
       "    .dataframe tbody tr th {\n",
       "        vertical-align: top;\n",
       "    }\n",
       "\n",
       "    .dataframe thead th {\n",
       "        text-align: right;\n",
       "    }\n",
       "</style>\n",
       "<table border=\"1\" class=\"dataframe\">\n",
       "  <thead>\n",
       "    <tr style=\"text-align: right;\">\n",
       "      <th></th>\n",
       "      <th>Unnamed: 0</th>\n",
       "      <th>index</th>\n",
       "      <th>videoId</th>\n",
       "      <th>commentCount</th>\n",
       "      <th>dislikeCount</th>\n",
       "      <th>likeCount</th>\n",
       "      <th>viewCount</th>\n",
       "      <th>Time</th>\n",
       "    </tr>\n",
       "  </thead>\n",
       "  <tbody>\n",
       "    <tr>\n",
       "      <th>694</th>\n",
       "      <td>694</td>\n",
       "      <td>694</td>\n",
       "      <td>FzG4uDgje3M</td>\n",
       "      <td>57945.0</td>\n",
       "      <td>217845.0</td>\n",
       "      <td>773068.0</td>\n",
       "      <td>174162471.0</td>\n",
       "      <td>2018-06-05 16:00:00</td>\n",
       "    </tr>\n",
       "    <tr>\n",
       "      <th>1389</th>\n",
       "      <td>1389</td>\n",
       "      <td>694</td>\n",
       "      <td>LOYAomlRbxI</td>\n",
       "      <td>5347.0</td>\n",
       "      <td>11916.0</td>\n",
       "      <td>165504.0</td>\n",
       "      <td>46932826.0</td>\n",
       "      <td>2018-06-05 16:00:00</td>\n",
       "    </tr>\n",
       "    <tr>\n",
       "      <th>2084</th>\n",
       "      <td>2084</td>\n",
       "      <td>694</td>\n",
       "      <td>Bm8rz-llMhE</td>\n",
       "      <td>1184.0</td>\n",
       "      <td>4892.0</td>\n",
       "      <td>101808.0</td>\n",
       "      <td>16873368.0</td>\n",
       "      <td>2018-06-05 16:00:00</td>\n",
       "    </tr>\n",
       "    <tr>\n",
       "      <th>2779</th>\n",
       "      <td>2779</td>\n",
       "      <td>694</td>\n",
       "      <td>pd7AMDMotyM</td>\n",
       "      <td>1914.0</td>\n",
       "      <td>4709.0</td>\n",
       "      <td>71034.0</td>\n",
       "      <td>16417437.0</td>\n",
       "      <td>2018-06-05 16:00:00</td>\n",
       "    </tr>\n",
       "    <tr>\n",
       "      <th>3474</th>\n",
       "      <td>3474</td>\n",
       "      <td>694</td>\n",
       "      <td>4kDklB6-69Q</td>\n",
       "      <td>10867.0</td>\n",
       "      <td>7536.0</td>\n",
       "      <td>252170.0</td>\n",
       "      <td>27965915.0</td>\n",
       "      <td>2018-06-05 16:00:00</td>\n",
       "    </tr>\n",
       "  </tbody>\n",
       "</table>\n",
       "</div>"
      ],
      "text/plain": [
       "      Unnamed: 0  index      videoId  commentCount  dislikeCount  likeCount  \\\n",
       "694          694    694  FzG4uDgje3M       57945.0      217845.0   773068.0   \n",
       "1389        1389    694  LOYAomlRbxI        5347.0       11916.0   165504.0   \n",
       "2084        2084    694  Bm8rz-llMhE        1184.0        4892.0   101808.0   \n",
       "2779        2779    694  pd7AMDMotyM        1914.0        4709.0    71034.0   \n",
       "3474        3474    694  4kDklB6-69Q       10867.0        7536.0   252170.0   \n",
       "\n",
       "        viewCount                 Time  \n",
       "694   174162471.0  2018-06-05 16:00:00  \n",
       "1389   46932826.0  2018-06-05 16:00:00  \n",
       "2084   16873368.0  2018-06-05 16:00:00  \n",
       "2779   16417437.0  2018-06-05 16:00:00  \n",
       "3474   27965915.0  2018-06-05 16:00:00  "
      ]
     },
     "execution_count": 70,
     "metadata": {},
     "output_type": "execute_result"
    }
   ],
   "source": [
    "df3.head()#now the counts in the df3 is actually the difference between initial and final values."
   ]
  },
  {
   "cell_type": "markdown",
   "metadata": {},
   "source": [
    "Then we try to find teh relationship between their initial performance and final performance.\n",
    "We expect this to be a linear relationship according to our pervious analysis, but we first need to \n",
    "visualize their relationship to confirm our prediction.\n",
    "Since these data for the ith entries in df2 and df3 are of the same video, we do not need to alter teh \n",
    "position of rows of df2 and df3 since they are alerady matched."
   ]
  },
  {
   "cell_type": "markdown",
   "metadata": {},
   "source": [
    "### Data Visualization: initial commentCount and final_commentCount_diff"
   ]
  },
  {
   "cell_type": "code",
   "execution_count": 71,
   "metadata": {},
   "outputs": [
    {
     "data": {
      "image/png": "[encoded data removed]",
      "text/plain": [
       "<Figure size 432x288 with 1 Axes>"
      ]
     },
     "metadata": {},
     "output_type": "display_data"
    }
   ],
   "source": [
    "plt.scatter(df2['commentCount'],df3[''commentCount'])\n",
    "plt.title('initial commentCount vs final_commentCount_diff')\n",
    "plt.xlabel('commentCount_initial')\n",
    "plt.ylabel('commentCount_final_diff')\n",
    "plt.show()"
   ]
  },
  {
   "cell_type": "code",
   "execution_count": 98,
   "metadata": {},
   "outputs": [
    {
     "data": {
      "image/png": "[encoded data removed]",
      "text/plain": [
       "<Figure size 432x288 with 1 Axes>"
      ]
     },
     "metadata": {},
     "output_type": "display_data"
    }
   ],
   "source": [
    "Z, hmx, hmy = np.histogram2d(df2['commentCount'],df3['commentCount'])\n",
    "\n",
    "plt.title('Heatmap')\n",
    "plt.xlabel('commentCount_initial')\n",
    "plt.ylabel('commentCount_final_diff')\n",
    "plt.pcolormesh(hmx,hmy,Z.T)\n",
    "\n",
    "plt.show()"
   ]
  },
  {
   "cell_type": "markdown",
   "metadata": {},
   "source": [
    "Our prediction about commentCount is <strong><em>not</strong></em> correct and this error could be caused by the big initial value of the commentCount. We could see that the initial comment count does not quite influence the final commentCount since from the plots we can see that the commentCount difference is nearly the same for all initial comment values, and the density is also nearly the same for all different values. According to the scatter plot, we could try to use both linearRegression model and ploy model to predict their relation, but we may <strong><em>not</strong></em> get a high score since these two counts are not actually tightly correlated."
   ]
  },
  {
   "cell_type": "markdown",
   "metadata": {},
   "source": [
    "### LinearRegression model: initial commentCount and final_commentCount_diff"
   ]
  },
  {
   "cell_type": "code",
   "execution_count": 83,
   "metadata": {},
   "outputs": [
    {
     "data": {
      "text/plain": [
       "0.19337335880250875"
      ]
     },
     "execution_count": 83,
     "metadata": {},
     "output_type": "execute_result"
    }
   ],
   "source": [
    "x_train, x_test, y_train, y_test = train_test_split(df2[['commentCount']], df3[['commentCount']],\n",
    "                                                    test_size=0.2, random_state=42)\n",
    "model = LinearRegression()\n",
    "model = model.fit(x_train, y_train)\n",
    "model.score(x_test, y_test)"
   ]
  },
  {
   "cell_type": "markdown",
   "metadata": {},
   "source": [
    "### poly model: initial commentCount and final_commentCount_diff"
   ]
  },
  {
   "cell_type": "code",
   "execution_count": 84,
   "metadata": {},
   "outputs": [
    {
     "data": {
      "text/plain": [
       "0.20136061052150633"
      ]
     },
     "execution_count": 84,
     "metadata": {},
     "output_type": "execute_result"
    }
   ],
   "source": [
    "poly_model = make_pipeline(PolynomialFeatures(3), LinearRegression())\n",
    "poly_model.fit(x_train, y_train)\n",
    "poly_model.score(x_test, y_test)"
   ]
  },
  {
   "cell_type": "markdown",
   "metadata": {},
   "source": [
    "### Data Visualization: initial dislikeCount and final_dislikeCount_diff"
   ]
  },
  {
   "cell_type": "code",
   "execution_count": 87,
   "metadata": {},
   "outputs": [
    {
     "data": {
      "image/png": "[encoded data removed]",
      "text/plain": [
       "<Figure size 432x288 with 1 Axes>"
      ]
     },
     "metadata": {},
     "output_type": "display_data"
    }
   ],
   "source": [
    "plt.scatter(df2['dislikeCount'],df3['dislikeCount'])\n",
    "plt.title('initial dislikeCount vs final dislikeCount_diff')\n",
    "plt.xlabel('dislikeCount_initial')\n",
    "plt.ylabel('dislikeCount_final_diff')\n",
    "plt.show()"
   ]
  },
  {
   "cell_type": "markdown",
   "metadata": {},
   "source": [
    "### LinearRegression model: initial dislikeCount and final_dislikeCount_diff"
   ]
  },
  {
   "cell_type": "code",
   "execution_count": 88,
   "metadata": {},
   "outputs": [
    {
     "data": {
      "text/plain": [
       "0.5099655509613146"
      ]
     },
     "execution_count": 88,
     "metadata": {},
     "output_type": "execute_result"
    }
   ],
   "source": [
    "x_train, x_test, y_train, y_test = train_test_split(df2[['dislikeCount']], df3[['dislikeCount']],\n",
    "                                                    test_size=0.2, random_state=42)\n",
    "model = LinearRegression()\n",
    "model = model.fit(x_train, y_train)\n",
    "model.score(x_test, y_test)"
   ]
  },
  {
   "cell_type": "markdown",
   "metadata": {},
   "source": [
    "### poly model: initial dislikeCount and final_dislikeCount_diff"
   ]
  },
  {
   "cell_type": "code",
   "execution_count": 89,
   "metadata": {},
   "outputs": [
    {
     "data": {
      "text/plain": [
       "0.39714707566088786"
      ]
     },
     "execution_count": 89,
     "metadata": {},
     "output_type": "execute_result"
    }
   ],
   "source": [
    "poly_model = make_pipeline(PolynomialFeatures(3), LinearRegression())\n",
    "poly_model.fit(x_train, y_train)\n",
    "poly_model.score(x_test, y_test)"
   ]
  },
  {
   "cell_type": "markdown",
   "metadata": {},
   "source": [
    "we could see from the previous plot and analysis that the initial dislikeCount and dislikeCount_diff between the initial dislikeCount and final dislikeCouunt is more a linear relation; in other words, if there are more people dislike a video at the beginning when the video is posted, then more likely there are more people dislike this video after time."
   ]
  },
  {
   "cell_type": "markdown",
   "metadata": {},
   "source": [
    "### Data Visualization: initial likeCount and final_likeCount_diff"
   ]
  },
  {
   "cell_type": "code",
   "execution_count": 90,
   "metadata": {},
   "outputs": [
    {
     "data": {
      "image/png": "[encoded data removed]",
      "text/plain": [
       "<Figure size 432x288 with 1 Axes>"
      ]
     },
     "metadata": {},
     "output_type": "display_data"
    }
   ],
   "source": [
    "plt.scatter(df2['likeCount'],df3['likeCount'])\n",
    "plt.title('initial likeCount vs final_likeCount_diff')\n",
    "plt.xlabel('likeCount_initial')\n",
    "plt.ylabel('likeCount_final_diff')\n",
    "plt.show()"
   ]
  },
  {
   "cell_type": "markdown",
   "metadata": {},
   "source": [
    "### LinearRegression model: initial likeCount and final_likeCount_diff"
   ]
  },
  {
   "cell_type": "code",
   "execution_count": 91,
   "metadata": {},
   "outputs": [
    {
     "data": {
      "text/plain": [
       "0.5198182179104062"
      ]
     },
     "execution_count": 91,
     "metadata": {},
     "output_type": "execute_result"
    }
   ],
   "source": [
    "x_train, x_test, y_train, y_test = train_test_split(df2[['likeCount']], df3[['likeCount']],\n",
    "                                                    test_size=0.2, random_state=42)\n",
    "model = LinearRegression()\n",
    "model = model.fit(x_train, y_train)\n",
    "model.score(x_test, y_test)"
   ]
  },
  {
   "cell_type": "markdown",
   "metadata": {},
   "source": [
    "### poly model: initial likeCount and final_likeCount_diff"
   ]
  },
  {
   "cell_type": "code",
   "execution_count": 92,
   "metadata": {},
   "outputs": [
    {
     "data": {
      "text/plain": [
       "0.4444005172307621"
      ]
     },
     "execution_count": 92,
     "metadata": {},
     "output_type": "execute_result"
    }
   ],
   "source": [
    "poly_model = make_pipeline(PolynomialFeatures(3), LinearRegression())\n",
    "poly_model.fit(x_train, y_train)\n",
    "poly_model.score(x_test, y_test)"
   ]
  },
  {
   "cell_type": "markdown",
   "metadata": {},
   "source": [
    "we could see from the previous plot and analysis that the initial likeCount and likeCount_diff between the initial likeCount and final likeCouunt is more a linear relation; in other words, if there are more people like a video at the beginning when the video is posted, then more likely there are more people like this video after time. This ralation is similar to teh initial dislike and final_dislike_diff relation, which is reasonable."
   ]
  },
  {
   "cell_type": "markdown",
   "metadata": {},
   "source": [
    "### Data Visualization: initial viewCount and final _viewCount_diff"
   ]
  },
  {
   "cell_type": "code",
   "execution_count": 96,
   "metadata": {},
   "outputs": [
    {
     "data": {
      "image/png": "[encoded data removed]",
      "text/plain": [
       "<Figure size 432x288 with 1 Axes>"
      ]
     },
     "metadata": {},
     "output_type": "display_data"
    }
   ],
   "source": [
    "plt.scatter(df2['viewCount'],df3['viewCount'])\n",
    "plt.title('initial viewCount vs final_viewCount_diff')\n",
    "plt.xlabel('viewCount_initial')\n",
    "plt.ylabel('viewCount_final_diff')\n",
    "plt.show()"
   ]
  },
  {
   "cell_type": "markdown",
   "metadata": {},
   "source": [
    "### LinearRegression model: initial viewCount and final_viewCount_diff"
   ]
  },
  {
   "cell_type": "code",
   "execution_count": 94,
   "metadata": {},
   "outputs": [
    {
     "data": {
      "text/plain": [
       "0.764144432898527"
      ]
     },
     "execution_count": 94,
     "metadata": {},
     "output_type": "execute_result"
    }
   ],
   "source": [
    "x_train, x_test, y_train, y_test = train_test_split(df2[['viewCount']], df3[['viewCount']],\n",
    "                                                    test_size=0.2, random_state=42)\n",
    "model = LinearRegression()\n",
    "model = model.fit(x_train, y_train)\n",
    "model.score(x_test, y_test)"
   ]
  },
  {
   "cell_type": "markdown",
   "metadata": {},
   "source": [
    "### poly model: initial viewCount and final_viewCount_diff"
   ]
  },
  {
   "cell_type": "code",
   "execution_count": 95,
   "metadata": {},
   "outputs": [
    {
     "data": {
      "text/plain": [
       "0.8844861772127125"
      ]
     },
     "execution_count": 95,
     "metadata": {},
     "output_type": "execute_result"
    }
   ],
   "source": [
    "poly_model = make_pipeline(PolynomialFeatures(3), LinearRegression())\n",
    "poly_model.fit(x_train, y_train)\n",
    "poly_model.score(x_test, y_test)"
   ]
  },
  {
   "cell_type": "markdown",
   "metadata": {},
   "source": [
    "From the plot and abalysis above, we could see that the initial viewCount and the difference between the initial viewCount and final viewCount is more a ploynomial relation; this means that if there are more people view the video at the beginning when the video is posted, there are more likely to be much more people to view the video after time. It seems very reasonable for this to be a non-linear relationship since one people views the video usually means other people related to this people are more likely to see this video; it's like a tree, one parent see the video and therefore the \"subtree/nodes\" of the parent/root are more likely to view teh video."
   ]
  },
  {
   "cell_type": "markdown",
   "metadata": {},
   "source": [
    "## Interpretation of the result"
   ]
  },
  {
   "cell_type": "markdown",
   "metadata": {},
   "source": [
    "Our result shows that the initial performance of a video is actually not necessary linearly correlated to its final performance. <br><br>\n",
    "From the analysis above, we could see that the initial comment count do not influence the change of comment count after time and these two values are not actually tightly correlated. Therefore we could not say a video will get more comments because it gets many comments initially. <br><br>\n",
    "For the like and dislike counts, these initial values seems to have a more linear relation with the change of like/dislkie counts overtime, which means that we could predict if a video has more likecount at the beginning, it is more likely to have proportionally more like/dislike after time.<br><br>\n",
    "For the viewCounts, these initial values seems to have a more polynomial relation with the change of viewCounts overtime. Therefore, we could predict that if a video has more viewCounts initially, it is more likely to have a lot more viewCounts after time. In other words, if YouTubers wants to make their videos popular after time, it is better for them to try to attract as many people as they can to view their video at the very beginning when the video is released since this will significantly improve the final viewCounts.<br><br>\n",
    "Therefore, we could predict the final performance of YouTube videos by looking at their initial performance using our models; this is veru useful for the YouTubers since they could know whether or not their video will be very popular after some time and what to do to imporve the corresponding counts, therefore they could improve their possible incomes. We could also see that it is very important to advertise the video at the beginning when it is released since this could improve both the final likeCount and final viewCount."
   ]
  },
  {
   "cell_type": "code",
   "execution_count": null,
   "metadata": {},
   "outputs": [],
   "source": []
  }
 ],
 "metadata": {
  "kernelspec": {
   "display_name": "Python 3",
   "language": "python",
   "name": "python3"
  },
  "language_info": {
   "codemirror_mode": {
    "name": "ipython",
    "version": 3
   },
   "file_extension": ".py",
   "mimetype": "text/x-python",
   "name": "python",
   "nbconvert_exporter": "python",
   "pygments_lexer": "ipython3",
   "version": "3.7.1"
  }
 },
 "nbformat": 4,
 "nbformat_minor": 2
}
